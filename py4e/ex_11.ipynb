{
 "cells": [
  {
   "cell_type": "markdown",
   "metadata": {},
   "source": [
    "## Exercise 1:\n",
    " Write a simple program to simulate the operation of the grep command on Unix. Ask the user to enter a regular expression and count the number of lines that matched the regular expression:\n",
    "\n",
    "$ python grep.py\n",
    "Enter a regular expression: ^Author\n",
    "mbox.txt had 1798 lines that matched ^Author\n",
    "\n",
    "$ python grep.py\n",
    "Enter a regular expression: ^X-\n",
    "mbox.txt had 14368 lines that matched ^X-\n",
    "\n",
    "$ python grep.py\n",
    "Enter a regular expression: java $\n",
    "mbox.txt had 4175 lines that matched java $"
   ]
  },
  {
   "cell_type": "markdown",
   "metadata": {},
   "source": []
  },
  {
   "cell_type": "code",
   "execution_count": 1,
   "metadata": {},
   "outputs": [
    {
     "name": "stdout",
     "output_type": "stream",
     "text": [
      "mbox.txt  had  132045  lines that matched  \n"
     ]
    }
   ],
   "source": [
    "import re\n",
    "\n",
    "fhand = input('Enter file name:')\n",
    "try:\n",
    "    fname= open(fhand)\n",
    "except:\n",
    "    print('Not existent')\n",
    "    quit()\n",
    "\n",
    "smatch = input('Enter a regular expression:\\t')\n",
    "count = 0 \n",
    "for line in fname:\n",
    "    line = line.rstrip()\n",
    "    if re.search(smatch, line):\n",
    "        count += 1\n",
    "    \n",
    "print(fhand, ' had ', str(count), ' lines that matched ', smatch)\n"
   ]
  },
  {
   "cell_type": "markdown",
   "metadata": {},
   "source": [
    "## Exercise 2:\n",
    " Write a program to look for lines of the form:\n",
    "\n",
    "New Revision: 39772\n",
    "\n",
    "Extract the number from each of the lines using a regular expression and the findall() method. Compute the average of the numbers and print out the average as an integer."
   ]
  },
  {
   "cell_type": "code",
   "execution_count": 2,
   "metadata": {},
   "outputs": [
    {
     "name": "stdout",
     "output_type": "stream",
     "text": [
      "38549\n"
     ]
    }
   ],
   "source": [
    "import re\n",
    "\n",
    "fname = input('Enter file name')\n",
    "try:\n",
    "    fhand = open(fname)\n",
    "except:\n",
    "    print('Invalid input')\n",
    "    exit()\n",
    "\n",
    "rev = []\n",
    "\n",
    "regexp = 'New Revision: ([0-9]+)'\n",
    "for line in fhand:\n",
    "    line.rstrip()\n",
    "    rev_temp = re.findall(regexp, line)\n",
    "    for val in rev_temp:\n",
    "        rev.append(float(val))\n",
    "    \n",
    "rev_sum = sum(rev)\n",
    "count = len(rev)\n",
    "rev_average = rev_sum/count\n",
    "print(int(rev_average))\n",
    "    \n",
    "\n",
    "\n",
    "        "
   ]
  },
  {
   "cell_type": "markdown",
   "metadata": {},
   "source": [
    "## Excercise 3\n",
    "In this assignment you will read through and parse a file with text and numbers. You will extract all the numbers in the file and compute the sum of the numbers."
   ]
  },
  {
   "cell_type": "code",
   "execution_count": 4,
   "metadata": {},
   "outputs": [
    {
     "name": "stdout",
     "output_type": "stream",
     "text": [
      "516412\n"
     ]
    }
   ],
   "source": [
    "import re\n",
    "\n",
    "#fname = 'sample-data.txt'\n",
    "fname = 'actual-data.txt'\n",
    "\n",
    "fhand = open(fname)\n",
    "\n",
    "numlist = []\n",
    "regexp = '([0-9]+)'\n",
    "for line in fhand:\n",
    "    line.rstrip()\n",
    "    num_temp = re.findall(regexp, line)\n",
    "    for val in num_temp:\n",
    "        numlist.append(int(val))\n",
    "\n",
    "print(sum(numlist))\n",
    "    "
   ]
  },
  {
   "cell_type": "code",
   "execution_count": null,
   "metadata": {},
   "outputs": [],
   "source": []
  }
 ],
 "metadata": {
  "kernelspec": {
   "display_name": "Python 3",
   "language": "python",
   "name": "python3"
  },
  "language_info": {
   "codemirror_mode": {
    "name": "ipython",
    "version": 3
   },
   "file_extension": ".py",
   "mimetype": "text/x-python",
   "name": "python",
   "nbconvert_exporter": "python",
   "pygments_lexer": "ipython3",
   "version": "3.11.5"
  },
  "orig_nbformat": 4
 },
 "nbformat": 4,
 "nbformat_minor": 2
}
