{
 "cells": [
  {
   "cell_type": "markdown",
   "metadata": {},
   "source": [
    "set up a proportion:\n",
    "\n",
    "$\\frac{n1}{d1}=\\frac{n2}{d2}$"
   ]
  },
  {
   "cell_type": "code",
   "execution_count": 1,
   "metadata": {},
   "outputs": [
    {
     "name": "stdout",
     "output_type": "stream",
     "text": [
      "d2 =  8.0\n"
     ]
    }
   ],
   "source": [
    "# Put a zero in for the unknown value\n",
    "n1 = 1\n",
    "d1 = 2\n",
    "n2 = 4\n",
    "d2 = 0\n",
    "\n",
    "if n2==0:\n",
    "    answer = d2 * n1 / d1\n",
    "    print(\"n2 = \", answer)\n",
    "\n",
    "if d2==0:\n",
    "    answer = n2 * d1 / n1\n",
    "    print(\"d2 = \", answer)"
   ]
  },
  {
   "cell_type": "markdown",
   "metadata": {},
   "source": [
    "Run this code to practice solving one-step and two-step problems. It will give you 12 practice problems. If you don't get them all correct, you can run this again to get more practice. Your answer can be a fraction, decimal, or whole number.\n"
   ]
  },
  {
   "cell_type": "code",
   "execution_count": 7,
   "metadata": {},
   "outputs": [
    {
     "name": "stdout",
     "output_type": "stream",
     "text": [
      "x +  0  =  24\n"
     ]
    },
    {
     "name": "stdout",
     "output_type": "stream",
     "text": [
      "Correct! \n",
      "\n",
      "-15  + x =  19\n",
      "Correct! \n",
      "\n",
      "5 x =  20\n",
      "Round your answer to two decimal places.\n",
      "Correct! \n",
      "\n",
      "x/ 1  =  11\n",
      "Correct! \n",
      "\n",
      "9 x +  12  =  7\n",
      "Round answer to two decimal places\n",
      "Try again\n",
      "The correct answer is  -0.5555555555555556 \n",
      "\n",
      " \n",
      "x +  6  =  7\n",
      "Correct! \n",
      "\n",
      "-8  + x =  24\n",
      "Correct! \n",
      "\n",
      "1 x =  15\n",
      "Round your answer to two decimal places.\n",
      "Correct! \n",
      "\n",
      "x/ 8  =  5\n",
      "Correct! \n",
      "\n",
      "4 x +  9  =  16\n",
      "Round answer to two decimal places\n"
     ]
    },
    {
     "ename": "ValueError",
     "evalue": "could not convert string to float: ''",
     "output_type": "error",
     "traceback": [
      "\u001b[0;31m---------------------------------------------------------------------------\u001b[0m",
      "\u001b[0;31mValueError\u001b[0m                                Traceback (most recent call last)",
      "Cell \u001b[0;32mIn[7], line 105\u001b[0m\n\u001b[1;32m    103\u001b[0m     one_step_mult()\n\u001b[1;32m    104\u001b[0m     one_step_div()\n\u001b[0;32m--> 105\u001b[0m     \u001b[43mtwo_step\u001b[49m\u001b[43m(\u001b[49m\u001b[43m)\u001b[49m\n\u001b[1;32m    106\u001b[0m     \u001b[38;5;28mprint\u001b[39m(\u001b[38;5;124m\"\u001b[39m\u001b[38;5;124m \u001b[39m\u001b[38;5;124m\"\u001b[39m)\n\u001b[1;32m    108\u001b[0m two_step()\n",
      "Cell \u001b[0;32mIn[7], line 92\u001b[0m, in \u001b[0;36mtwo_step\u001b[0;34m()\u001b[0m\n\u001b[1;32m     90\u001b[0m answer \u001b[38;5;241m=\u001b[39m (c\u001b[38;5;241m-\u001b[39mb)\u001b[38;5;241m/\u001b[39ma\n\u001b[1;32m     91\u001b[0m \u001b[38;5;66;03m# test\u001b[39;00m\n\u001b[0;32m---> 92\u001b[0m \u001b[38;5;28;01mif\u001b[39;00m \u001b[38;5;28mround\u001b[39m(\u001b[43mstring_frac\u001b[49m\u001b[43m(\u001b[49m\u001b[43mans_in\u001b[49m\u001b[43m)\u001b[49m,\u001b[38;5;241m2\u001b[39m)\u001b[38;5;241m==\u001b[39m\u001b[38;5;28mround\u001b[39m(answer,\u001b[38;5;241m2\u001b[39m):\n\u001b[1;32m     93\u001b[0m     \u001b[38;5;28mprint\u001b[39m(\u001b[38;5;124m\"\u001b[39m\u001b[38;5;124mCorrect! \u001b[39m\u001b[38;5;130;01m\\n\u001b[39;00m\u001b[38;5;124m\"\u001b[39m)\n\u001b[1;32m     94\u001b[0m \u001b[38;5;28;01melse\u001b[39;00m:\n",
      "Cell \u001b[0;32mIn[7], line 10\u001b[0m, in \u001b[0;36mstring_frac\u001b[0;34m(in_string)\u001b[0m\n\u001b[1;32m      8\u001b[0m     \u001b[38;5;28;01mreturn\u001b[39;00m ans\n\u001b[1;32m      9\u001b[0m \u001b[38;5;28;01melse\u001b[39;00m:\n\u001b[0;32m---> 10\u001b[0m     ans \u001b[38;5;241m=\u001b[39m \u001b[38;5;28;43mfloat\u001b[39;49m\u001b[43m(\u001b[49m\u001b[43min_string\u001b[49m\u001b[43m)\u001b[49m\n\u001b[1;32m     11\u001b[0m     \u001b[38;5;28;01mreturn\u001b[39;00m ans\n",
      "\u001b[0;31mValueError\u001b[0m: could not convert string to float: ''"
     ]
    }
   ],
   "source": [
    "# converts string input (even fractions) to float\n",
    "def string_frac(in_string):\n",
    "    if \"/\" in in_string:\n",
    "        nd = in_string.split(\"/\")\n",
    "        n = float(nd[0])\n",
    "        d = float(nd[1])\n",
    "        ans = n/d\n",
    "        return ans\n",
    "    else:\n",
    "        ans = float(in_string)\n",
    "        return ans\n",
    "\n",
    "\n",
    "# Simplest one-step addition\n",
    "def one_step_add():\n",
    "    import random\n",
    "    # Display problem\n",
    "    a = random.randint(-4,10)\n",
    "    b = random.randint(2,24)\n",
    "    print(\"x + \", a, \" = \", b)\n",
    "    ans = float(input(\"x = \"))\n",
    "    answer = b-a\n",
    "    # Test input\n",
    "    if ans==answer:\n",
    "        print(\"Correct! \\n\")\n",
    "    else:\n",
    "        print(\"Try again\")\n",
    "        print(\"The correct answer is \", answer, \"\\n\")\n",
    "\n",
    "\n",
    "# One-step additon with negaive numbers\n",
    "def one_step_subtract():\n",
    "    import random\n",
    "    a = random.randint(-19,-1)\n",
    "    b = random.randint(2,24)\n",
    "    print(a, \" + x = \", b)\n",
    "    ans = float(input(\"x = \"))\n",
    "    # test\n",
    "    answer = b-a\n",
    "    if ans==answer:\n",
    "        print(\"Correct! \\n\")\n",
    "    else:\n",
    "        print(\"Try again\")\n",
    "        print(\"The correct answer is \", answer, \"\\n\")\n",
    "\n",
    "# One-step multiply\n",
    "def one_step_mult():\n",
    "    # Uses string_frac(<input string>)\n",
    "    import random\n",
    "    a = random.randint(1,11)\n",
    "    b = random.randint(2,24)\n",
    "    print(a, \"x = \", b)\n",
    "    print(\"Round your answer to two decimal places.\")\n",
    "    ans_in = (input(\"x = \"))\n",
    "    answer = round(b/a,2)\n",
    "    # test\n",
    "    if string_frac(ans_in)==answer:\n",
    "        print(\"Correct! \\n\")\n",
    "    else:\n",
    "        print(\"Try again\")\n",
    "        print(\"The correct answer is \", answer, \"\\n\")\n",
    "\n",
    "\n",
    "# One-step divide\n",
    "def one_step_div():\n",
    "    import random\n",
    "    a = random.randint(1,11)\n",
    "    b = random.randint(2,24)\n",
    "    print(\"x/\", a, \" = \", b)\n",
    "    ans = float(input(\"x = \"))\n",
    "    answer = b*a\n",
    "    # test\n",
    "    if ans==answer:\n",
    "        print(\"Correct! \\n\")\n",
    "    else:\n",
    "        print(\"Try again\")\n",
    "        print(\"The correct answer is \", answer, \"\\n\")\n",
    "\n",
    "\n",
    "# Two-step problems\n",
    "def two_step():\n",
    "    import random\n",
    "    # Uses string_frac()\n",
    "    a = random.randint(1,11)\n",
    "    b = random.randint(-7,12)\n",
    "    c = random.randint(2,36)\n",
    "    print(a, \"x + \", b, \" = \", c)\n",
    "    print(\"Round answer to two decimal places\")\n",
    "    ans_in = input(\"x = \")\n",
    "    answer = (c-b)/a\n",
    "    # test\n",
    "    if round(string_frac(ans_in),2)==round(answer,2):\n",
    "        print(\"Correct! \\n\")\n",
    "    else:\n",
    "        print(\"Try again\")\n",
    "        print(\"The correct answer is \", answer, \"\\n\")\n",
    "\n",
    "\n",
    "# test loop\n",
    "for a in range(2):\n",
    "    one_step_add()\n",
    "    one_step_subtract()\n",
    "    one_step_mult()\n",
    "    one_step_div()\n",
    "    two_step()\n",
    "    print(\" \")\n",
    "\n",
    "two_step()\n",
    "two_step()\n"
   ]
  },
  {
   "cell_type": "code",
   "execution_count": null,
   "metadata": {},
   "outputs": [],
   "source": []
  }
 ],
 "metadata": {
  "kernelspec": {
   "display_name": "Python 3",
   "language": "python",
   "name": "python3"
  },
  "language_info": {
   "codemirror_mode": {
    "name": "ipython",
    "version": 3
   },
   "file_extension": ".py",
   "mimetype": "text/x-python",
   "name": "python",
   "nbconvert_exporter": "python",
   "pygments_lexer": "ipython3",
   "version": "3.12.3"
  }
 },
 "nbformat": 4,
 "nbformat_minor": 2
}
