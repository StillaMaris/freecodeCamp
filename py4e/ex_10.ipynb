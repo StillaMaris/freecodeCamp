{
 "cells": [
  {
   "cell_type": "markdown",
   "metadata": {},
   "source": [
    "# Ex 10 \n",
    "\n",
    "### most common words in a text"
   ]
  },
  {
   "cell_type": "code",
   "execution_count": 3,
   "metadata": {},
   "outputs": [
    {
     "name": "stdout",
     "output_type": "stream",
     "text": [
      "the 3\n",
      "is 3\n",
      "and 3\n",
      "sun 2\n",
      "yonder 1\n",
      "with 1\n",
      "window 1\n",
      "who 1\n",
      "what 1\n",
      "through 1\n"
     ]
    }
   ],
   "source": [
    "import string\n",
    "fhand = input('Enter file name')\n",
    "try:\n",
    "    fname = open(fhand)\n",
    "except:\n",
    "    print('Non existent')\n",
    "    exit()\n",
    "\n",
    "histogram = {}\n",
    "for line in fname:\n",
    "    line = line.translate(line.maketrans('', '', string.punctuation))\n",
    "    line = line.lower()\n",
    "    words = line.split()\n",
    "    words.sort()\n",
    "    for value in words:\n",
    "         histogram[value] = histogram.get(value, 0) +1\n",
    "\n",
    "lst = []\n",
    "for k,v in histogram.items():\n",
    "     lst.append((v,k))\n",
    "     \n",
    "lst = sorted(lst, reverse = True)   \n",
    "for value, key in lst[:10]:\n",
    "    print(key, value)"
   ]
  },
  {
   "cell_type": "code",
   "execution_count": 11,
   "metadata": {},
   "outputs": [
    {
     "name": "stdout",
     "output_type": "stream",
     "text": [
      "[(3, 'the'), (3, 'is'), (3, 'and'), (2, 'sun'), (1, 'yonder'), (1, 'with'), (1, 'window'), (1, 'who'), (1, 'what'), (1, 'through'), (1, 'soft'), (1, 'sick'), (1, 'pale'), (1, 'moon'), (1, 'light'), (1, 'kill'), (1, 'juliet'), (1, 'it'), (1, 'grief'), (1, 'fair'), (1, 'envious'), (1, 'east'), (1, 'but'), (1, 'breaks'), (1, 'arise'), (1, 'already')]\n"
     ]
    }
   ],
   "source": [
    "import string\n",
    "fhand = input('Enter file name')\n",
    "try:\n",
    "    fname = open(fhand)\n",
    "except:\n",
    "    print('Non existent')\n",
    "    exit()\n",
    "\n",
    "histogram = {}\n",
    "for line in fname:\n",
    "    line = line.translate(line.maketrans('', '', string.punctuation))\n",
    "    line = line.lower()\n",
    "    words = line.split()\n",
    "    words.sort()\n",
    "    for value in words:\n",
    "         histogram[value] = histogram.get(value, 0) +1\n",
    "\n",
    "print( sorted([ (v,k) for (k,v) in histogram.items()], reverse=True) )"
   ]
  },
  {
   "cell_type": "markdown",
   "metadata": {},
   "source": [
    "## Ex 1\n",
    "Revise a previous program as follows: Read and parse the “From” lines and pull out the addresses from the line. Count the number of messages from each person using a dictionary.\n",
    "\n",
    "After all the data has been read, print the person with the most commits by creating a list of (count, email) tuples from the dictionary. Then sort the list in reverse order and print out the person who has the most commits.\n",
    "\n",
    "\n",
    "Sample Line:\n",
    "From stephen.marquard@uct.ac.za Sat Jan  5 09:14:16 2008\n",
    "\n",
    "Enter a file name: mbox-short.txt\n",
    "cwen@iupui.edu 5\n",
    "\n",
    "Enter a file name: mbox.txt\n",
    "zqian@umich.edu 195"
   ]
  },
  {
   "cell_type": "code",
   "execution_count": 21,
   "metadata": {},
   "outputs": [
    {
     "name": "stdout",
     "output_type": "stream",
     "text": [
      "zqian@umich.edu 195\n"
     ]
    }
   ],
   "source": [
    "fhand = input('Enter file name')\n",
    "try:\n",
    "    fname = open(fhand)\n",
    "except:\n",
    "    print('File not found')\n",
    "    exit()\n",
    "\n",
    "counts = {}\n",
    "for line in fname:\n",
    "    if len(line) > 2 and line.startswith('From '):\n",
    "        #print(line)\n",
    "        words = line.split()\n",
    "        email = words[1]\n",
    "        #print(email)\n",
    "        counts[email] = counts.get(email, 0) +1\n",
    "\n",
    "#list and print the peerson with most \n",
    "hlist = sorted([(v,k) for (k,v) in counts.items() ], reverse=True)\n",
    "for (v,k) in hlist[:1]:\n",
    "    print( k,v)\n"
   ]
  },
  {
   "cell_type": "markdown",
   "metadata": {},
   "source": [
    "## Ex 2\n",
    "\n",
    "This program counts the distribution of the hour of the day for each of the messages. You can pull the hour from the “From” line by finding the time string and then splitting that string into parts using the colon character. Once you have accumulated the counts for each hour, print out the counts, one per line, sorted by hour as shown below.\n",
    "\n"
   ]
  },
  {
   "cell_type": "code",
   "execution_count": 9,
   "metadata": {},
   "outputs": [
    {
     "name": "stdout",
     "output_type": "stream",
     "text": [
      "00 23\n",
      "01 10\n",
      "02 11\n",
      "03 19\n",
      "04 23\n",
      "05 10\n",
      "06 45\n",
      "07 42\n",
      "08 72\n",
      "09 166\n",
      "10 198\n",
      "11 154\n",
      "12 108\n",
      "13 114\n",
      "14 150\n",
      "15 152\n",
      "16 181\n",
      "17 97\n",
      "18 58\n",
      "19 46\n",
      "20 36\n",
      "21 36\n",
      "22 28\n",
      "23 18\n"
     ]
    }
   ],
   "source": [
    "fhand = input('Enter file name')\n",
    "try:\n",
    "    fname = open(fhand)\n",
    "except:\n",
    "    print('File not found')\n",
    "    exit()\n",
    "\n",
    "hcounts = {}\n",
    "for line in fname:\n",
    "    if len(line) > 2 and line.startswith('From '):\n",
    "        #print(line)\n",
    "        words = line.split()\n",
    "        time = words[5]\n",
    "        time = time.split(':')\n",
    "        hour = time[0]\n",
    "        #print(hour)\n",
    "        hcounts[hour] = hcounts.get(hour, 0) +1\n",
    "\n",
    "#print(hcounts)\n",
    "hlist = []\n",
    "for (v,k) in hcounts.items():\n",
    "    hlist.append((v,k))\n",
    "\n",
    "hlist.sort()\n",
    "for (v,k) in hlist:\n",
    "    print(v,k)        \n",
    "\n",
    "    \n"
   ]
  },
  {
   "cell_type": "markdown",
   "metadata": {},
   "source": [
    "## Ex 3\n",
    "\n",
    "Write a program that reads a file and prints the letters in decreasing order of frequency. Your program should convert all the input to lower case and only count the letters a-z. Your program should not count spaces, digits, punctuation, or anything other than the letters a-z. Find text samples from several different languages and see how letter frequency varies between languages. Compare your results with the tables at https://wikipedia.org/wiki/Letter_frequencies.\n",
    "\n",
    "\n"
   ]
  },
  {
   "cell_type": "code",
   "execution_count": 18,
   "metadata": {},
   "outputs": [
    {
     "name": "stdout",
     "output_type": "stream",
     "text": [
      "{'b': 2, 'u': 6, 't': 12, 's': 11, 'o': 8, 'f': 3, 'w': 5, 'h': 9, 'a': 11, 'l': 6, 'i': 14, 'g': 3, 'r': 7, 'y': 2, 'n': 9, 'd': 6, 'e': 12, 'k': 3, 'j': 1, 'v': 1, 'm': 1, 'c': 1, 'p': 1}\n",
      "i 0.1044776119402985\n",
      "t 0.08955223880597014\n",
      "e 0.08955223880597014\n",
      "s 0.08208955223880597\n",
      "a 0.08208955223880597\n",
      "n 0.06716417910447761\n",
      "h 0.06716417910447761\n",
      "o 0.05970149253731343\n",
      "r 0.05223880597014925\n",
      "u 0.04477611940298507\n",
      "l 0.04477611940298507\n",
      "d 0.04477611940298507\n",
      "w 0.03731343283582089\n",
      "k 0.022388059701492536\n",
      "g 0.022388059701492536\n",
      "f 0.022388059701492536\n",
      "y 0.014925373134328358\n",
      "b 0.014925373134328358\n",
      "v 0.007462686567164179\n",
      "p 0.007462686567164179\n",
      "m 0.007462686567164179\n",
      "j 0.007462686567164179\n",
      "c 0.007462686567164179\n"
     ]
    }
   ],
   "source": [
    "import string\n",
    "\n",
    "fhand = input('Enter file name')\n",
    "try:\n",
    "    fname = open(fhand)\n",
    "except:\n",
    "    print('Invalid name')\n",
    "    exit()\n",
    "    \n",
    "lettercounts = {}\n",
    "counts = 0 \n",
    "relative_freq_list = []\n",
    "\n",
    "\n",
    "for line in fname:\n",
    "    line = line.lower()\n",
    "    line = line.translate(str.maketrans('', '', string.digits))\n",
    "    line = line.translate(line.maketrans('','', string.punctuation))\n",
    "    #take letters\n",
    "    words = line.split() \n",
    "    #print(words)\n",
    "    for word in words:\n",
    "        for letter in word:\n",
    "            # Count each letter for relative frequencies\n",
    "            counts += 1\n",
    "            lettercounts[letter] = lettercounts.get(letter, 0) +1\n",
    "            \n",
    "for (key,val) in lettercounts.items():\n",
    "    relative_freq_list.append((val/counts, key)) # Computes the relative frequency\n",
    "\n",
    "relative_freq_list.sort(reverse = True)\n",
    "\n",
    "for (freq, key) in relative_freq_list:\n",
    "    print(key, freq)\n"
   ]
  },
  {
   "cell_type": "code",
   "execution_count": null,
   "metadata": {},
   "outputs": [],
   "source": []
  }
 ],
 "metadata": {
  "kernelspec": {
   "display_name": "Python 3",
   "language": "python",
   "name": "python3"
  },
  "language_info": {
   "codemirror_mode": {
    "name": "ipython",
    "version": 3
   },
   "file_extension": ".py",
   "mimetype": "text/x-python",
   "name": "python",
   "nbconvert_exporter": "python",
   "pygments_lexer": "ipython3",
   "version": "3.11.5"
  },
  "orig_nbformat": 4
 },
 "nbformat": 4,
 "nbformat_minor": 2
}
