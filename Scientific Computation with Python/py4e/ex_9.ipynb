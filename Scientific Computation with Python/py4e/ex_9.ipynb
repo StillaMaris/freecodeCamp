{
 "cells": [
  {
   "cell_type": "markdown",
   "metadata": {},
   "source": [
    "# Exercise 9\n",
    "\n",
    "## Ex 9.0\n",
    "\n",
    "Histogram code"
   ]
  },
  {
   "cell_type": "code",
   "execution_count": 6,
   "metadata": {},
   "outputs": [
    {
     "name": "stdout",
     "output_type": "stream",
     "text": [
      "{'csev': 3, 'zhen': 7, 'cwen': 5, 'marquad': 3}\n"
     ]
    }
   ],
   "source": [
    "hist = {}\n",
    "vals = ['csev', 'zhen', 'cwen', 'marquad', 'zhen','zhen','zhen','zhen','zhen','zhen','csev','csev','cwen','cwen','cwen','cwen','marquad','marquad']\n",
    "for key in vals:\n",
    "    if key not in hist: #if name is not in hist add it\n",
    "        hist[key]  = 1\n",
    "    else:   #if name is in hist add one\n",
    "        hist[key] += 1\n",
    "\n",
    "print(hist)"
   ]
  },
  {
   "cell_type": "markdown",
   "metadata": {},
   "source": [
    "The pattern of checking if a key is in dictionary and assuming a default value if the key is not there is so common that there is a method called get() that does this for us"
   ]
  },
  {
   "cell_type": "code",
   "execution_count": 9,
   "metadata": {},
   "outputs": [
    {
     "name": "stdout",
     "output_type": "stream",
     "text": [
      "{'csev': 3, 'zhen': 7, 'cwen': 5, 'marquad': 3}\n"
     ]
    }
   ],
   "source": [
    "hist = {}\n",
    "vals = ['csev', 'zhen', 'cwen', 'marquad', 'zhen','zhen','zhen','zhen','zhen','zhen','csev','csev','cwen','cwen','cwen','cwen','marquad','marquad']\n",
    "for key in vals:\n",
    "    hist[key] = hist.get(key, 0) + 1\n",
    "print(hist)"
   ]
  },
  {
   "cell_type": "markdown",
   "metadata": {},
   "source": [
    "Now let's take romeo.txt and we will write a Python program to read through the lines of the file, break each line into a list of words, and then loop through each of the words in the line and count each word using a dictionary."
   ]
  },
  {
   "cell_type": "code",
   "execution_count": 8,
   "metadata": {},
   "outputs": [
    {
     "name": "stdout",
     "output_type": "stream",
     "text": [
      "dict_items([('But', 1), ('soft', 1), ('what', 1), ('light', 1), ('through', 1), ('yonder', 1), ('window', 1), ('breaks', 1), ('It', 1), ('is', 3), ('the', 3), ('east', 1), ('and', 3), ('Juliet', 1), ('sun', 2), ('Arise', 1), ('fair', 1), ('kill', 1), ('envious', 1), ('moon', 1), ('Who', 1), ('already', 1), ('sick', 1), ('pale', 1), ('with', 1), ('grief', 1)])\n",
      "is 3\n"
     ]
    }
   ],
   "source": [
    "fname = input('Enter the file name: ')\n",
    "try:\n",
    "    fhand = open(fname)\n",
    "except:\n",
    "    print('File cannot be opened:', fname)\n",
    "    exit()\n",
    "    \n",
    "hist = {}\n",
    "for line in fhand:\n",
    "    words = line.split() #prendiamo le parole di ciascuna linea\n",
    "    for word in words:\n",
    "        hist[word] = hist.get(word, 0) +1\n",
    "        \n",
    "bigcount = None \n",
    "bigword = None \n",
    "\n",
    "for word, count in hist.items():\n",
    "    if bigcount == None or count > bigcount:\n",
    "        bigcount = count\n",
    "        bigword = word\n",
    "print(hist.items())\n",
    "print(bigword, bigcount)"
   ]
  },
  {
   "cell_type": "markdown",
   "metadata": {},
   "source": [
    "## Punctuation and advanced text parsing \n",
    "In the above example using the file romeo.txt, we made the file as simple as possible by removing all punctuation by hand. The actual text has lots of punctuation, as shown below.\n",
    "\n",
    "*But, soft! what light through yonder window breaks?\n",
    "It is the east, and Juliet is the sun.\n",
    "Arise, fair sun, and kill the envious moon,\n",
    "Who is already sick and pale with grief,*\n",
    "\n",
    "\n",
    "\n",
    "Since the Python split function looks for spaces and treats words as tokens separated by spaces, we would treat the words “soft!” and “soft” as different words and create a separate dictionary entry for each word.\n",
    "\n",
    "Also since the file has capitalization, we would treat “who” and “Who” as different words with different counts.\n",
    "\n",
    "We can solve both these problems by using the string methods lower, punctuation, and translate. The translate is the most subtle of the methods. Here is the documentation for translate:\n",
    "\n",
    "line.translate(str.maketrans(fromstr, tostr, deletestr))\n",
    "\n",
    "Replace the characters in fromstr with the character in the same position in tostr and delete all characters that are in deletestr. The fromstr and tostr can be empty strings and the deletestr parameter can be omitted.\n",
    "\n",
    "We will not specify the tostr but we will use the deletestr parameter to delete all of the punctuation. We will even let Python tell us the list of characters that it considers “punctuation”:"
   ]
  },
  {
   "cell_type": "code",
   "execution_count": 9,
   "metadata": {},
   "outputs": [
    {
     "data": {
      "text/plain": [
       "'!\"#$%&\\'()*+,-./:;<=>?@[\\\\]^_`{|}~'"
      ]
     },
     "execution_count": 9,
     "metadata": {},
     "output_type": "execute_result"
    }
   ],
   "source": [
    "import string\n",
    ">>> string.punctuation"
   ]
  },
  {
   "cell_type": "code",
   "execution_count": 26,
   "metadata": {},
   "outputs": [
    {
     "name": "stdout",
     "output_type": "stream",
     "text": [
      "{'but': 1, 'soft': 1, 'what': 1, 'light': 1, 'through': 1, 'yonder': 1, 'window': 1, 'breaks': 1, 'it': 1, 'is': 3, 'the': 3, 'east': 1, 'and': 3, 'juliet': 1, 'sun': 2, 'arise': 1, 'fair': 1, 'kill': 1, 'envious': 1, 'moon': 1, 'who': 1, 'already': 1, 'sick': 1, 'pale': 1, 'with': 1, 'grief': 1}\n"
     ]
    }
   ],
   "source": [
    "import string \n",
    "fname = input('Enter the file name')\n",
    "try:\n",
    "    fhand = open(fname)\n",
    "except:\n",
    "    print('Wrong file name')\n",
    "    exit()\n",
    "\n",
    "hist = {}\n",
    "for line in fhand:\n",
    "    line = line.translate(line.maketrans('', '', string.punctuation))\n",
    "    line = line.lower()\n",
    "    words = line.split()\n",
    "    #print(words)\n",
    "    for word in words:\n",
    "        hist[word] = hist.get(word, 0) + 1\n",
    "    \n",
    "print(hist)"
   ]
  },
  {
   "cell_type": "markdown",
   "metadata": {},
   "source": [
    "## Exercise 1\n",
    "Download a copy of the file www.py4e.com/code3/words.txt\n",
    "\n",
    "Write a program that reads the words in words.txt and stores them as keys in a dictionary. It doesn’t matter what the values are. Then you can use the in operator as a fast way to check whether a string is in the dictionary."
   ]
  },
  {
   "cell_type": "code",
   "execution_count": 27,
   "metadata": {},
   "outputs": [
    {
     "name": "stdout",
     "output_type": "stream",
     "text": [
      "{'a': 3, 'creative': 1, 'is': 2, 'or': 1, 'programming': 1, 'programs': 2, 'very': 2, 'writing': 1, 'activity': 1, 'and': 5, 'can': 4, 'for': 1, 'rewarding': 1, 'write': 1, 'you': 5, 'from': 2, 'living': 1, 'making': 1, 'many': 2, 'ranging': 2, 'reasons': 1, 'solving': 1, 'to': 16, 'your': 2, 'analysis': 1, 'data': 1, 'difficult': 1, 'fun': 1, 'having': 1, 'helping': 1, 'problem': 2, 'assumes': 1, 'book': 1, 'else': 1, 'solve': 1, 'someone': 1, 'that': 4, 'this': 2, 'em': 1, 'everyone': 1, 'how': 2, 'know': 2, 'needs': 1, 'once': 1, 'program': 2, 'figure': 1, 'out': 1, 'want': 1, 'what': 3, 'will': 1, 'do': 5, 'newfound': 1, 'skills': 1, 'with': 2, 'are': 3, 'computers': 5, 'daily': 1, 'in': 2, 'lives': 1, 'our': 6, 'surrounded': 1, 'we': 7, 'cell': 1, 'laptops': 1, 'of': 5, 'phones': 1, 'these': 1, 'think': 1, 'as': 1, 'assistants': 1, 'care': 1, 'personal': 1, 'take': 1, 'things': 3, 'who': 1, 'behalf': 2, 'currentday': 1, 'hardware': 1, 'on': 2, 'the': 7, 'ask': 1, 'built': 1, 'continuously': 1, 'essentially': 1, 'question': 1, 'us': 2, 'like': 2, 'me': 1, 'next': 2, 'would': 2, 'amounts': 1, 'fast': 1, 'have': 1, 'memory': 1, 'vasts': 1, 'be': 1, 'could': 2, 'helpful': 1, 'if': 2, 'knew': 2, 'language': 2, 'only': 1, 'computer': 2, 'explain': 1, 'it': 1, 'speak': 1, 'tell': 1, 'reptitive': 1, 'tasks': 1, 'were': 1, 'best': 1, 'interestingly': 1, 'kinds': 2, 'boring': 1, 'find': 1, 'humans': 1, 'often': 1, 'mindnumbing': 1}\n"
     ]
    }
   ],
   "source": [
    "import string\n",
    "\n",
    "fhand = input('Enter file name:')\n",
    "\n",
    "try:\n",
    "    fname = open(fhand)\n",
    "except: \n",
    "    print('Invalid file')\n",
    "    exit()\n",
    "\n",
    "hist = {}\n",
    "for line in fname:\n",
    "    line = line.translate(line.maketrans('', '', string.punctuation))\n",
    "    line = line.lower()\n",
    "    words = line.split()\n",
    "    words.sort()\n",
    "    for word in words:\n",
    "        hist[word] = hist.get(word, 0) +1\n",
    "\n",
    "print(hist)\n",
    "    "
   ]
  },
  {
   "cell_type": "markdown",
   "metadata": {},
   "source": [
    "## Exercise 2: \n",
    "Write a program that categorizes each mail message by which day of the week the commit was done. To do this look for lines that start with “From”, then look for the third word and keep a running count of each of the days of the week. At the end of the program print out the contents of your dictionary (order does not matter).\n",
    "\n",
    "*Sample Line:*\n",
    "\n",
    "From stephen.marquard@uct.ac.za Sat Jan  5 09:14:16 2008\n",
    "\n",
    "*Sample Execution:*\n",
    "\n",
    "python dow.py\n",
    "Enter a file name: mbox-short.txt\n",
    "{'Fri': 20, 'Thu': 6, 'Sat': 1}\n"
   ]
  },
  {
   "cell_type": "code",
   "execution_count": 29,
   "metadata": {},
   "outputs": [
    {
     "name": "stdout",
     "output_type": "stream",
     "text": [
      "{'Sat': 1, 'Fri': 20, 'Thu': 6}\n"
     ]
    }
   ],
   "source": [
    "fhand = input('Enter the file name')\n",
    "try:\n",
    "    fname = open(fhand)\n",
    "except:\n",
    "    print('Error! Non existent file')\n",
    "    exit()\n",
    "    \n",
    "hist = {}\n",
    "for line in fname:\n",
    "    if line.startswith('From ') and len(line) > 2:\n",
    "        words = line.split()\n",
    "        word = words[2]\n",
    "        hist[word] = hist.get(word, 0) + 1\n",
    "\n",
    "print(hist)"
   ]
  },
  {
   "cell_type": "markdown",
   "metadata": {},
   "source": [
    "## Exercise 3:\n",
    " Write a program to read through a mail log, build a histogram using a dictionary to count how many messages have come from each email address, and print the dictionary.\n",
    "\n",
    "Enter file name: mbox-short.txt\n",
    "\n",
    "{'gopal.ramasammycook@gmail.com': 1, 'louis@media.berkeley.edu': 3,\n",
    "'cwen@iupui.edu': 5, 'antranig@caret.cam.ac.uk': 1,\n",
    "'rjlowe@iupui.edu': 2, 'gsilver@umich.edu': 3,\n",
    "'david.horwitz@uct.ac.za': 4, 'wagnermr@iupui.edu': 1,\n",
    "'zqian@umich.edu': 4, 'stephen.marquard@uct.ac.za': 2,\n",
    "'ray@media.berkeley.edu': 1}"
   ]
  },
  {
   "cell_type": "code",
   "execution_count": 37,
   "metadata": {},
   "outputs": [
    {
     "name": "stdout",
     "output_type": "stream",
     "text": [
      "{'stephen.marquard@uct.ac.za': 2, 'louis@media.berkeley.edu': 3, 'zqian@umich.edu': 4, 'rjlowe@iupui.edu': 2, 'cwen@iupui.edu': 5, 'gsilver@umich.edu': 3, 'wagnermr@iupui.edu': 1, 'antranig@caret.cam.ac.uk': 1, 'gopal.ramasammycook@gmail.com': 1, 'david.horwitz@uct.ac.za': 4, 'ray@media.berkeley.edu': 1}\n"
     ]
    }
   ],
   "source": [
    "fhand = input('Enter file name')\n",
    "try:\n",
    "    fname = open(fhand)\n",
    "except:\n",
    "    print('Invalid name')\n",
    "    exit()\n",
    "\n",
    "histogram = {}\n",
    "for line in fname:\n",
    "    if line.startswith('From ') and len(line)>2:\n",
    "        words = line.split()\n",
    "        email = words[1]\n",
    "        histogram[email] = histogram.get(email, 0) + 1\n",
    "print(histogram)            "
   ]
  },
  {
   "cell_type": "markdown",
   "metadata": {},
   "source": [
    "# Exercise 4:\n",
    "Add code to the above program to figure out who has the most messages in the file. After all the data has been read and the dictionary has been created, look through the dictionary using a maximum loop (see Chapter 5: Maximum and minimum loops) to find who has the most messages and print how many messages the person has.\n",
    "\n",
    "Enter a file name: mbox-short.txt\n",
    "cwen@iupui.edu 5\n",
    "\n",
    "Enter a file name: mbox.txt\n",
    "zqian@umich.edu 195"
   ]
  },
  {
   "cell_type": "code",
   "execution_count": 44,
   "metadata": {},
   "outputs": [
    {
     "name": "stdout",
     "output_type": "stream",
     "text": [
      "zqian@umich.edu 195\n"
     ]
    }
   ],
   "source": [
    "fhand = input('Enter file name')\n",
    "try:\n",
    "    fname = open(fhand)\n",
    "except:\n",
    "    print('Invalid name')\n",
    "    exit()\n",
    "\n",
    "histogram = {}\n",
    "for line in fname:\n",
    "    if line.startswith('From ') and len(line)>2:\n",
    "        words = line.split()\n",
    "        email = words[1]\n",
    "        histogram[email] = histogram.get(email, 0) + 1\n",
    "\n",
    "bigemail = None \n",
    "bigcount = None \n",
    "\n",
    "for email, count in histogram.items():\n",
    "    if bigcount == None or count > bigcount:\n",
    "        bigcount = count\n",
    "        bigemail= email\n",
    "print(bigemail, bigcount)\n"
   ]
  },
  {
   "cell_type": "markdown",
   "metadata": {},
   "source": [
    "## Exercise 5:\n",
    "\n",
    " This program records the domain name (instead of the address) where the message was sent from instead of who the mail came from (i.e., the whole email address). At the end of the program, print out the contents of your dictionary.\n",
    "\n",
    "python schoolcount.py\n",
    "Enter a file name: mbox-short.txt\n",
    "{'media.berkeley.edu': 4, 'uct.ac.za': 6, 'umich.edu': 7,\n",
    "'gmail.com': 1, 'caret.cam.ac.uk': 1, 'iupui.edu': 8}"
   ]
  },
  {
   "cell_type": "code",
   "execution_count": 46,
   "metadata": {},
   "outputs": [
    {
     "name": "stdout",
     "output_type": "stream",
     "text": [
      "{'uct.ac.za': 6, 'media.berkeley.edu': 4, 'umich.edu': 7, 'iupui.edu': 8, 'caret.cam.ac.uk': 1, 'gmail.com': 1}\n"
     ]
    }
   ],
   "source": [
    "dictionary_domains = {}\n",
    "fhand = input('Enter file name')\n",
    "try:\n",
    "    fname = open(fhand)\n",
    "except:\n",
    "    print('Error!!!')\n",
    "    exit()\n",
    "    \n",
    "for line in fname:\n",
    "    if len(line) > 2 and line.startswith('From '):\n",
    "        words = line.split()\n",
    "        atpos = words[1].find('@')\n",
    "        domain = words[1][atpos +1:]\n",
    "        dictionary_domains[domain] = dictionary_domains.get(domain, 0 ) + 1 \n",
    "print(dictionary_domains)\n"
   ]
  },
  {
   "cell_type": "code",
   "execution_count": null,
   "metadata": {},
   "outputs": [],
   "source": []
  }
 ],
 "metadata": {
  "kernelspec": {
   "display_name": "Python 3",
   "language": "python",
   "name": "python3"
  },
  "language_info": {
   "codemirror_mode": {
    "name": "ipython",
    "version": 3
   },
   "file_extension": ".py",
   "mimetype": "text/x-python",
   "name": "python",
   "nbconvert_exporter": "python",
   "pygments_lexer": "ipython3",
   "version": "3.11.5"
  },
  "orig_nbformat": 4
 },
 "nbformat": 4,
 "nbformat_minor": 2
}
